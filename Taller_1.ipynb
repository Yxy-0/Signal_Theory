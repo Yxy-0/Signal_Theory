{
  "nbformat": 4,
  "nbformat_minor": 0,
  "metadata": {
    "colab": {
      "provenance": [],
      "include_colab_link": true
    },
    "kernelspec": {
      "name": "python3",
      "display_name": "Python 3"
    },
    "language_info": {
      "name": "python"
    }
  },
  "cells": [
    {
      "cell_type": "markdown",
      "metadata": {
        "id": "view-in-github",
        "colab_type": "text"
      },
      "source": [
        "<a href=\"https://colab.research.google.com/github/Yxy-0/Signal_Theory/blob/main/Taller_1.ipynb\" target=\"_parent\"><img src=\"https://colab.research.google.com/assets/colab-badge.svg\" alt=\"Open In Colab\"/></a>"
      ]
    },
    {
      "cell_type": "markdown",
      "source": [
        "#*Taller 1 Teoria*#\n",
        "In this Notebook, the goal is to compile the topics covered in **Classes-Inheritance-Sets** through the following exercise:\n",
        "\n",
        "\n",
        "\n",
        "\n",
        "1.  *First part: Create a Python class that takes a xlsx_file and allows me\n",
        "to -->*\n",
        "\n",
        "\n",
        "*   Read data\n",
        "*   return mean of a specific column\n",
        "*   return mode of a specific column\n",
        "*   return median of a specific column\n",
        "\n",
        "\n",
        "\n",
        "\n",
        "\n",
        "\n",
        "\n",
        "\n",
        "---\n",
        "\n",
        "\n",
        "\n",
        "\n",
        "2.   *Second part: Create a 'child' class of type Single inheritence from  the previous class that should take 2 xlsx_files and provides  --> the following set operations on the data in both dataframes:*\n",
        "\n",
        "\n",
        "\n",
        "\n",
        "**A ∪ B**\n",
        "---\n",
        "**A ∩ B**\n",
        "---\n",
        "**A - B**\n",
        "---\n",
        "**B - A**\n",
        "---\n",
        "**A △ B**\n",
        "---\n",
        "\n",
        "\n",
        "\n",
        "###*hints*###\n",
        "\n",
        "\n",
        "*   YOU CAN USE PANDAS AS LONG IS IN YOUR OWN CLASS\n",
        "*   [read_excel()](https://pandas.pydata.org/pandas-docs/stable/reference/api/pandas.read_excel.html)\n",
        "* [merge()](https://pandas.pydata.org/pandas-docs/stable/user_guide/merging.html)\n",
        "\n",
        "* [Isin()](https://www.delftstack.com/api/python-pandas/pandas-dataframe-dataframe.isin-function/)\n",
        "\n",
        "\n",
        "* [symmetric difference](https://pandas.pydata.org/pandas-docs/stable/user_guide/merging.html)\n",
        "\n",
        "\n",
        "* [concat](https://pandas.pydata.org/pandas-docs/stable/reference/api/pandas.concat.html)"
      ],
      "metadata": {
        "id": "4a6WviWNQ6tW"
      }
    },
    {
      "cell_type": "code",
      "source": [
        "#PUNTO1 YULIANA ANDREA RIVADENEIRA URBINA\n",
        "\n",
        "import pandas as pd #importa la libreria panda\n",
        "\n",
        "libro1=pd.read_excel('Book1.xlsx') #Lee archivo Book1\n",
        "libro2=pd.read_excel('Book2.xlsx') #Lee archivo Book2\n",
        "\n",
        "numlibro=None\n",
        "while numlibro!=\"1\" and numlibro !=\"2\": #escoje el libro que se usará, si es diferente a 1 o 2, no sigue\n",
        "  numlibro= input(\"* Elija libro que desea usar, marque 1 o 2: \")\n",
        "  if numlibro!=\"1\" and numlibro !=\"2\":\n",
        "    print(\"El libro que escogio no existe, intentelo de nuevo.\")\n",
        "\n",
        "if numlibro==\"1\": #escoge el libro1\n",
        "  libro=libro1\n",
        "else: #escoge el libro2\n",
        "  libro=libro2\n",
        "\n",
        "columna=None\n",
        "while columna!=\"1\" and columna !=\"2\" and columna!=\"3\": #escoje la columna para usarla en la media, moda o mediana, si no es ninguna no sigue\n",
        "  columna= input(\"* ¿Qué columna desea usar: 1.edad, 2.peso o 3.estatura: \")\n",
        "  if columna!=\"1\" and columna !=\"2\" and columna!=\"3\":\n",
        "    print(\"La columna que escogio no existe, intentelo de nuevo.\")\n",
        "\n",
        "if columna==\"1\": #escoge la columna de edad\n",
        "  numcol=\"Edad\"\n",
        "elif columna==\"2\": #escoge la columna de peso\n",
        "  numcol=\"Peso\"\n",
        "else:\n",
        "  numcol=\"Estatura\" #escoge la columna de estatura\n",
        "\n",
        "operacion=None\n",
        "while operacion!=\"media\" and operacion !=\"mediana\" and operacion!=\"moda\": #se escoge qué operación realizar, si no es niguna no sigue\n",
        "  operacion=input(\"* ¿Qué operacion desea realizar?: media, mediana o moda: \")\n",
        "  if operacion!=\"media\" and operacion !=\"mediana\" and operacion!=\"moda\":\n",
        "    print(\"La operación que escogio no existe, intentelo de nuevo.\")\n",
        "\n",
        "if operacion==\"media\":\n",
        "  resultado=libro[numcol].mean() #realiza la media\n",
        "elif operacion==\"mediana\":\n",
        "  resultado=libro[numcol].median() #realiza la mediana\n",
        "else:\n",
        "  resultado=libro[numcol].mode() #realiza la moda\n",
        "\n",
        "print(\"El resultado de la \", operacion, \" de la columna \", numcol, \" del libro \", numlibro, \" es de: \", resultado)\n",
        "\n",
        "\n"
      ],
      "metadata": {
        "id": "RB19zdHezUgi",
        "colab": {
          "base_uri": "https://localhost:8080/"
        },
        "outputId": "13d1d1b8-f389-446c-dd81-01ed4d5b59a3"
      },
      "execution_count": null,
      "outputs": [
        {
          "output_type": "stream",
          "name": "stdout",
          "text": [
            "* Elija libro que desea usar, marque 1 o 2: 1\n",
            "* ¿Qué columna desea usar: 1.edad, 2.peso o 3.estatura: 3\n",
            "* ¿Qué operacion desea realizar?: media, mediana o moda: media\n",
            "El resultado de la  media  de la columna  Estatura  del libro  1  es de:  1.7099999999999997\n"
          ]
        }
      ]
    },
    {
      "cell_type": "code",
      "source": [
        "#PUNTO 2 YULIANA ANDREA RIVADENEIRA URBINA\n",
        "\n",
        "import numpy as np #importa la libreria numpy\n",
        "\n",
        "columna=None\n",
        "while columna!=\"1\" and columna !=\"2\" and columna!=\"3\": #escoje la columna para usarla en la media, moda o mediana, si no es ninguna no sigue\n",
        "  columna= input(\"* ¿Qué columna desea usar de los libros 1 y 2: 1. edad, 2. peso o 3. estatura: \")\n",
        "  if columna!=\"1\" and columna !=\"2\" and columna!=\"3\":\n",
        "    print(\"La columna que escogio no existe, intentelo de nuevo.\")\n",
        "\n",
        "if columna==\"1\": #escoge la columna de edad\n",
        "  numcol=\"Edad\"\n",
        "elif columna==\"2\": #escoge la columna de peso\n",
        "  numcol=\"Peso\"\n",
        "else:\n",
        "  numcol=\"Estatura\" #escoge la columna de estatura\n",
        "\n",
        "collibro1=libro1[numcol] #guarda la columnna deseada del libro 1\n",
        "collibro2=libro2[numcol] #guarda la columnna deseada del libro 1\n",
        "\n",
        "cl1= np.array(collibro1) #vuelve una lista la columna deseada del libro 1\n",
        "cl2= np.array(collibro2) #vuelve una lista la columna deseada del libro 2\n",
        "\n",
        "union= np.union1d(cl1,cl2) #realiza la union entre la columna del libro 1 y la del 2 y da la lista en orden\n",
        "\n",
        "inter= np.intersect1d(cl1,cl2) #realiza la interseccion entre la columna del libro 1 y la del 2 y da la lista en orden\n",
        "\n",
        "ab= np.setdiff1d(cl1,cl2) #realiza diferencia  cl1-cl2 y da la lista en orden\n",
        "ba= np.setdiff1d(cl2,cl1) #realiza diferencia cl2-cl1 y da la lista en orden\n",
        "\n",
        "difgeo= np.setxor1d(cl1,cl2) #realiza la diferencia geometrica entre la columna del libro 1 y la del 2 y da la lista en orden\n",
        "\n",
        "print(\"De la columna escogida:\", numcol)\n",
        "print(\"La columna del libro 1, es: \", cl1)\n",
        "print(\"La columna del libro 2, es: \", cl2)\n",
        "print(\"La union entre estas columnas es: \", union)\n",
        "print(\"La interseccion entre estas columnas es: \", inter)\n",
        "print(\"La diferencia entre la columna del libro 1 y 2 es: \", ab)\n",
        "print(\"La diferencia entre la columna del libro 2 y 1 es: \", ba)\n",
        "print(\"La diferencia geometrica entre estas columnas es: \", difgeo)"
      ],
      "metadata": {
        "colab": {
          "base_uri": "https://localhost:8080/"
        },
        "id": "ES8LNRoKFpc_",
        "outputId": "eb63c426-3e25-4069-9f8d-62ac361a670e"
      },
      "execution_count": null,
      "outputs": [
        {
          "output_type": "stream",
          "name": "stdout",
          "text": [
            "* ¿Qué columna desea usar de los libros 1 y 2: 1. edad, 2. peso o 3. estatura: 1\n",
            "De la columna escogida: Edad\n",
            "La columna del libro 1, es:  [15 14 12 32 23]\n",
            "La columna del libro 2, es:  [53 34 12 12 32 23 32]\n",
            "La union entre estas columnas es:  [12 14 15 23 32 34 53]\n",
            "La interseccion entre estas columnas es:  [12 23 32]\n",
            "La diferencia entre la columna del libro 1 y 2 es:  [14 15]\n",
            "La diferencia entre la columna del libro 2 y 1 es:  [34 53]\n",
            "La diferencia geometrica entre estas columnas es:  [14 15 34 53]\n"
          ]
        }
      ]
    }
  ]
}